{
 "cells": [
  {
   "cell_type": "code",
   "execution_count": 1,
   "id": "798aef1e",
   "metadata": {},
   "outputs": [],
   "source": [
    "import numpy as np"
   ]
  },
  {
   "cell_type": "code",
   "execution_count": 5,
   "id": "3e37002e",
   "metadata": {},
   "outputs": [
    {
     "name": "stdout",
     "output_type": "stream",
     "text": [
      "[[   1    2    3    4]\n",
      " [ 200  100  300 1000]]\n"
     ]
    },
    {
     "data": {
      "text/plain": [
       "2.5"
      ]
     },
     "execution_count": 5,
     "metadata": {},
     "output_type": "execute_result"
    }
   ],
   "source": [
    "a = np.array([[1,2,3,4],[200,100,300,1000]])\n",
    "\n",
    "print(a)\n",
    "a[0].mean()"
   ]
  },
  {
   "cell_type": "code",
   "execution_count": 12,
   "id": "d32a6262",
   "metadata": {},
   "outputs": [
    {
     "name": "stdout",
     "output_type": "stream",
     "text": [
      "[1 2 3 4]\n",
      "Original array after ravel modification: [[99  2]\n",
      " [ 3  4]]\n",
      "Flattened copy remains unchanged: [100   2   3   4]\n"
     ]
    }
   ],
   "source": [
    "import numpy as np\n",
    "\n",
    "# Original 2D array\n",
    "arr = np.array([[1, 2], [3, 4]])\n",
    "\n",
    "# Using ravel() (creates a view if possible)\n",
    "ravel_arr = arr.ravel()\n",
    "print(ravel_arr)\n",
    "ravel_arr[0] = 99  # Modifies the original array since ravel may return a view\n",
    "\n",
    "# Using flatten() (always returns a copy)\n",
    "flatten_arr = arr.flatten()  \n",
    "flatten_arr[0] = 100  # Does not modify the original array\n",
    "\n",
    "print(\"Original array after ravel modification:\", arr)  # Output: [[99  2] [ 3  4]]\n",
    "print(\"Flattened copy remains unchanged:\", flatten_arr)  # Output: [100   2   3   4]\n"
   ]
  },
  {
   "cell_type": "code",
   "execution_count": null,
   "id": "d88ee9fc",
   "metadata": {},
   "outputs": [
    {
     "data": {
      "text/plain": [
       "array([ 20.        ,  20.40201005,  20.8040201 ,  21.20603015,\n",
       "        21.6080402 ,  22.01005025,  22.4120603 ,  22.81407035,\n",
       "        23.2160804 ,  23.61809045,  24.0201005 ,  24.42211055,\n",
       "        24.8241206 ,  25.22613065,  25.6281407 ,  26.03015075,\n",
       "        26.4321608 ,  26.83417085,  27.2361809 ,  27.63819095,\n",
       "        28.04020101,  28.44221106,  28.84422111,  29.24623116,\n",
       "        29.64824121,  30.05025126,  30.45226131,  30.85427136,\n",
       "        31.25628141,  31.65829146,  32.06030151,  32.46231156,\n",
       "        32.86432161,  33.26633166,  33.66834171,  34.07035176,\n",
       "        34.47236181,  34.87437186,  35.27638191,  35.67839196,\n",
       "        36.08040201,  36.48241206,  36.88442211,  37.28643216,\n",
       "        37.68844221,  38.09045226,  38.49246231,  38.89447236,\n",
       "        39.29648241,  39.69849246,  40.10050251,  40.50251256,\n",
       "        40.90452261,  41.30653266,  41.70854271,  42.11055276,\n",
       "        42.51256281,  42.91457286,  43.31658291,  43.71859296,\n",
       "        44.12060302,  44.52261307,  44.92462312,  45.32663317,\n",
       "        45.72864322,  46.13065327,  46.53266332,  46.93467337,\n",
       "        47.33668342,  47.73869347,  48.14070352,  48.54271357,\n",
       "        48.94472362,  49.34673367,  49.74874372,  50.15075377,\n",
       "        50.55276382,  50.95477387,  51.35678392,  51.75879397,\n",
       "        52.16080402,  52.56281407,  52.96482412,  53.36683417,\n",
       "        53.76884422,  54.17085427,  54.57286432,  54.97487437,\n",
       "        55.37688442,  55.77889447,  56.18090452,  56.58291457,\n",
       "        56.98492462,  57.38693467,  57.78894472,  58.19095477,\n",
       "        58.59296482,  58.99497487,  59.39698492,  59.79899497,\n",
       "        60.20100503,  60.60301508,  61.00502513,  61.40703518,\n",
       "        61.80904523,  62.21105528,  62.61306533,  63.01507538,\n",
       "        63.41708543,  63.81909548,  64.22110553,  64.62311558,\n",
       "        65.02512563,  65.42713568,  65.82914573,  66.23115578,\n",
       "        66.63316583,  67.03517588,  67.43718593,  67.83919598,\n",
       "        68.24120603,  68.64321608,  69.04522613,  69.44723618,\n",
       "        69.84924623,  70.25125628,  70.65326633,  71.05527638,\n",
       "        71.45728643,  71.85929648,  72.26130653,  72.66331658,\n",
       "        73.06532663,  73.46733668,  73.86934673,  74.27135678,\n",
       "        74.67336683,  75.07537688,  75.47738693,  75.87939698,\n",
       "        76.28140704,  76.68341709,  77.08542714,  77.48743719,\n",
       "        77.88944724,  78.29145729,  78.69346734,  79.09547739,\n",
       "        79.49748744,  79.89949749,  80.30150754,  80.70351759,\n",
       "        81.10552764,  81.50753769,  81.90954774,  82.31155779,\n",
       "        82.71356784,  83.11557789,  83.51758794,  83.91959799,\n",
       "        84.32160804,  84.72361809,  85.12562814,  85.52763819,\n",
       "        85.92964824,  86.33165829,  86.73366834,  87.13567839,\n",
       "        87.53768844,  87.93969849,  88.34170854,  88.74371859,\n",
       "        89.14572864,  89.54773869,  89.94974874,  90.35175879,\n",
       "        90.75376884,  91.15577889,  91.55778894,  91.95979899,\n",
       "        92.36180905,  92.7638191 ,  93.16582915,  93.5678392 ,\n",
       "        93.96984925,  94.3718593 ,  94.77386935,  95.1758794 ,\n",
       "        95.57788945,  95.9798995 ,  96.38190955,  96.7839196 ,\n",
       "        97.18592965,  97.5879397 ,  97.98994975,  98.3919598 ,\n",
       "        98.79396985,  99.1959799 ,  99.59798995, 100.        ])"
      ]
     },
     "execution_count": 14,
     "metadata": {},
     "output_type": "execute_result"
    }
   ],
   "source": [
    "np.linspace(20,100,200)\n",
    "\n",
    "# linspace will create number in the number of you want \n",
    "# like 200 number between 20 and 100"
   ]
  },
  {
   "cell_type": "code",
   "execution_count": 22,
   "id": "d8aa1772",
   "metadata": {},
   "outputs": [
    {
     "data": {
      "text/plain": [
       "(2, 4, 4)"
      ]
     },
     "execution_count": 22,
     "metadata": {},
     "output_type": "execute_result"
    }
   ],
   "source": [
    "np.zeros([2,4,4]).shape"
   ]
  },
  {
   "cell_type": "code",
   "execution_count": 27,
   "id": "48f33c2f",
   "metadata": {},
   "outputs": [
    {
     "data": {
      "text/plain": [
       "array(['100', '10', '20', '22', '40', 'arash'], dtype='<U11')"
      ]
     },
     "execution_count": 27,
     "metadata": {},
     "output_type": "execute_result"
    }
   ],
   "source": [
    "a = np.array([100,10,20,22,40,500])\n",
    "\n",
    "np.where(a>100, \"arash\", a)"
   ]
  },
  {
   "cell_type": "code",
   "execution_count": 4,
   "id": "032f68b1",
   "metadata": {},
   "outputs": [
    {
     "name": "stdout",
     "output_type": "stream",
     "text": [
      "[1. 2. 3.]\n",
      "[1 2 3]\n"
     ]
    }
   ],
   "source": [
    "import numpy as np\n",
    "import os\n",
    "\n",
    "# Your array\n",
    "a = np.array([1, 2, 3], dtype = int)\n",
    "\n",
    "# Define the path\n",
    "path = 'data/aa.txt'\n",
    "\n",
    "# Create directory if it doesn't exist\n",
    "os.makedirs(os.path.dirname(path), exist_ok=True)\n",
    "\n",
    "# Save the array\n",
    "np.savetxt(path, a)\n",
    "\n",
    "b =np.loadtxt('data/aa.txt', delimiter = ',')\n",
    "print(b)\n",
    "print(a)"
   ]
  },
  {
   "cell_type": "code",
   "execution_count": 9,
   "id": "c3ed81c6",
   "metadata": {},
   "outputs": [
    {
     "data": {
      "text/plain": [
       "array([ 2,  3,  4, 23, 24])"
      ]
     },
     "execution_count": 9,
     "metadata": {},
     "output_type": "execute_result"
    }
   ],
   "source": [
    "num1 =np.array([2,3,4])\n",
    "num2 = np.array([23,24])\n",
    "np.concatenate([num1, num2])"
   ]
  },
  {
   "cell_type": "code",
   "execution_count": null,
   "id": "f2fffcd5",
   "metadata": {},
   "outputs": [],
   "source": []
  }
 ],
 "metadata": {
  "kernelspec": {
   "display_name": "base",
   "language": "python",
   "name": "python3"
  },
  "language_info": {
   "codemirror_mode": {
    "name": "ipython",
    "version": 3
   },
   "file_extension": ".py",
   "mimetype": "text/x-python",
   "name": "python",
   "nbconvert_exporter": "python",
   "pygments_lexer": "ipython3",
   "version": "3.10.10"
  }
 },
 "nbformat": 4,
 "nbformat_minor": 5
}
