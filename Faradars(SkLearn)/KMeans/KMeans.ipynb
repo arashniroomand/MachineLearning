{
 "cells": [
  {
   "cell_type": "code",
   "execution_count": 3,
   "id": "322e371e",
   "metadata": {},
   "outputs": [],
   "source": [
    "import numpy as np\n",
    "import matplotlib.pyplot as plt\n",
    "import sklearn.datasets as dt\n",
    "import sklearn.cluster as cl"
   ]
  },
  {
   "cell_type": "code",
   "execution_count": null,
   "id": "dc8bd0fe",
   "metadata": {},
   "outputs": [],
   "source": [
    "import numpy as np\n",
    "import matplotlib.pyplot as plt\n",
    "import sklearn.datasets as dt\n",
    "import sklearn.cluster as cl\n",
    "\n",
    "IRIS = dt.load_iris()\n",
    "\n",
    "X = IRIS.data\n",
    "Y = IRIS.target\n",
    "\n",
    "KMN = cl.KMeans(n_clusters = 3)\n",
    "KMN.fit(X)\n",
    "Labels = KMN.labels_\n",
    "Centroids = KMN.cluster_centers_\n",
    "\n",
    "plt.subplot(1, 2, 1)\n",
    "plt.scatter(X[:, 2], X[:, 3], s = 15, c = Labels)\n",
    "plt.scatter(Centroids[:, 2], Centroids[:, 3], s = 60, c = 'r', marker = 'x')\n",
    "plt.xlabel('X3')\n",
    "plt.ylabel('X4')\n",
    "\n",
    "plt.subplot(1, 2, 2)\n",
    "plt.scatter(X[:, 2], X[:, 3], s = 15, c = Y)\n",
    "plt.xlabel('X3')\n",
    "plt.ylabel('X4')\n",
    "\n",
    "plt.show()"
   ]
  },
  {
   "cell_type": "code",
   "execution_count": null,
   "id": "abf36481",
   "metadata": {},
   "outputs": [],
   "source": []
  }
 ],
 "metadata": {
  "kernelspec": {
   "display_name": "base",
   "language": "python",
   "name": "python3"
  },
  "language_info": {
   "codemirror_mode": {
    "name": "ipython",
    "version": 3
   },
   "file_extension": ".py",
   "mimetype": "text/x-python",
   "name": "python",
   "nbconvert_exporter": "python",
   "pygments_lexer": "ipython3",
   "version": "3.11.3"
  }
 },
 "nbformat": 4,
 "nbformat_minor": 5
}
