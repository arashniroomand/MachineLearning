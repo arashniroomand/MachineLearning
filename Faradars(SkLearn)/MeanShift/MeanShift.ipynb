{
 "cells": [
  {
   "cell_type": "code",
   "execution_count": 1,
   "id": "7ba4333a",
   "metadata": {},
   "outputs": [],
   "source": [
    "# Step 1: Define data points and bandwidth\n",
    "data = [1.0, 2.0, 2.2, 2.4, 8.0, 8.2, 8.3, 9.0]\n",
    "bandwidth = 1.0\n"
   ]
  },
  {
   "cell_type": "code",
   "execution_count": 2,
   "id": "5c0bc1c7",
   "metadata": {},
   "outputs": [],
   "source": [
    "def get_neighbors(point, data, bandwidth):\n",
    "    neighbors = []\n",
    "    for other_point in data:\n",
    "        if abs(point - other_point) <= bandwidth:\n",
    "            neighbors.append(other_point)\n",
    "    return neighbors\n"
   ]
  },
  {
   "cell_type": "code",
   "execution_count": 3,
   "id": "aa54cd13",
   "metadata": {},
   "outputs": [
    {
     "name": "stdout",
     "output_type": "stream",
     "text": [
      "[1.0, 2.0, 2.2, 2.4]\n"
     ]
    }
   ],
   "source": [
    "print(get_neighbors(2.0, data, bandwidth))  # Should return: [1.0, 2.0, 2.2, 2.4]\n"
   ]
  },
  {
   "cell_type": "code",
   "execution_count": 7,
   "id": "ee4c5652",
   "metadata": {},
   "outputs": [
    {
     "name": "stdout",
     "output_type": "stream",
     "text": [
      "1.7333333333333334\n",
      "8.366666666666667\n"
     ]
    }
   ],
   "source": [
    "def shift_point(point, data, bandwidth, tol=1e-3, max_iter=100):\n",
    "    for _ in range(max_iter):\n",
    "        neighbors = get_neighbors(point, data, bandwidth)\n",
    "        if not neighbors:\n",
    "            break\n",
    "        new_point = sum(neighbors) / len(neighbors)\n",
    "        shift = abs(new_point - point)\n",
    "        point = new_point\n",
    "        if shift < tol:\n",
    "            break\n",
    "    return point\n",
    "\n",
    "print(shift_point(2.0, data, bandwidth))  # Should return average of [1.0, 2.0, 2.2, 2.4] → ~1.9\n",
    "print(shift_point(8.0, data, bandwidth))  # Should return average of [8.0, 8.2, 8.3, 9.0] → ~8.38\n",
    "\n"
   ]
  },
  {
   "cell_type": "code",
   "execution_count": 5,
   "id": "7b3cd2fe",
   "metadata": {},
   "outputs": [
    {
     "name": "stdout",
     "output_type": "stream",
     "text": [
      "Final shifted point: 1.9\n"
     ]
    }
   ],
   "source": [
    "point = 2.0\n",
    "\n",
    "for i in range(100):\n",
    "    new_point = shift_point(point, data, bandwidth)\n",
    "    \n",
    "    # If the point is not moving anymore, stop early\n",
    "    if abs(new_point - point) < 1e-4:\n",
    "        break\n",
    "    \n",
    "    point = new_point  # Update the point with its new position\n",
    "\n",
    "print(\"Final shifted point:\", round(point, 3))\n"
   ]
  },
  {
   "cell_type": "code",
   "execution_count": 6,
   "id": "36582981",
   "metadata": {},
   "outputs": [
    {
     "name": "stdout",
     "output_type": "stream",
     "text": [
      "[1.7333333333333334, 1.7333333333333334, 2.1, 8.366666666666667, 8.366666666666667, 8.366666666666667]\n"
     ]
    }
   ],
   "source": [
    "def mean_shift(data, bandwidth, max_iter=100, tol=1e-3):\n",
    "    shifted_points = data.copy()\n",
    "    \n",
    "    for it in range(max_iter):\n",
    "        new_points = []\n",
    "        for point in shifted_points:\n",
    "            new_point = shift_point(point, data, bandwidth)\n",
    "            new_points.append(new_point)\n",
    "\n",
    "        # check if the shift is small enough to stop\n",
    "        max_shift = max(abs(p1 - p2) for p1, p2 in zip(shifted_points, new_points))\n",
    "        shifted_points = new_points\n",
    "        \n",
    "        if max_shift < tol:\n",
    "            break\n",
    "    \n",
    "    return shifted_points\n",
    "\n",
    "\n",
    "data = [1.0, 2.0, 2.2, 8.0, 8.1, 9.0]\n",
    "bandwidth = 1.0\n",
    "result = mean_shift(data, bandwidth)\n",
    "print(result)\n"
   ]
  },
  {
   "cell_type": "code",
   "execution_count": null,
   "id": "aad98367",
   "metadata": {},
   "outputs": [],
   "source": []
  }
 ],
 "metadata": {
  "kernelspec": {
   "display_name": "base",
   "language": "python",
   "name": "python3"
  },
  "language_info": {
   "codemirror_mode": {
    "name": "ipython",
    "version": 3
   },
   "file_extension": ".py",
   "mimetype": "text/x-python",
   "name": "python",
   "nbconvert_exporter": "python",
   "pygments_lexer": "ipython3",
   "version": "3.11.3"
  }
 },
 "nbformat": 4,
 "nbformat_minor": 5
}
