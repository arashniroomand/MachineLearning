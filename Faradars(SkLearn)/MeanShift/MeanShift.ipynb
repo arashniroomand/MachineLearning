{
 "cells": [
  {
   "cell_type": "code",
   "execution_count": 1,
   "id": "7fc99825",
   "metadata": {},
   "outputs": [],
   "source": [
    "# Step 1: Define data points and bandwidth\n",
    "data = [1.0, 2.0, 2.2, 2.4, 8.0, 8.2, 8.3, 9.0]\n",
    "bandwidth = 1.0\n"
   ]
  },
  {
   "cell_type": "code",
   "execution_count": 13,
   "id": "b5536181",
   "metadata": {},
   "outputs": [
    {
     "name": "stdout",
     "output_type": "stream",
     "text": [
      "Let's check ==> 2.0 - 1.0 = 1.0\n",
      "Let's check ==> 2.0 - 2.0 = 0.0\n",
      "Let's check ==> 2.0 - 2.2 = -0.20000000000000018\n",
      "Let's check ==> 2.0 - 2.4 = -0.3999999999999999\n",
      "Let's check ==> 2.0 - 8.0 = -6.0\n",
      "Let's check ==> 2.0 - 8.2 = -6.199999999999999\n",
      "Let's check ==> 2.0 - 8.3 = -6.300000000000001\n",
      "Let's check ==> 2.0 - 9.0 = -7.0\n",
      "The neighbors around 2.0 are [1.0, 2.0, 2.2, 2.4]\n"
     ]
    }
   ],
   "source": [
    "def get_neighbors(target, data, bandwidth):\n",
    "    neighbors = []\n",
    "    for i in data:\n",
    "        print(f\"Let's check ==> {target} - {i} = {target - i}\")\n",
    "        if abs(target - i) <= bandwidth:\n",
    "            neighbors.append(i)\n",
    "    return neighbors\n",
    "            \n",
    "            \n",
    "target = 2.0  \n",
    "neighbors = get_neighbors(target, data, bandwidth)\n",
    "print(f\"The neighbors around {target} are {neighbors}\")"
   ]
  },
  {
   "cell_type": "code",
   "execution_count": 15,
   "id": "c8fce021",
   "metadata": {},
   "outputs": [
    {
     "name": "stdout",
     "output_type": "stream",
     "text": [
      "Let's check ==> 2.0 - 1.0 = 1.0\n",
      "Let's check ==> 2.0 - 2.0 = 0.0\n",
      "Let's check ==> 2.0 - 2.2 = -0.20000000000000018\n",
      "Let's check ==> 2.0 - 2.4 = -0.3999999999999999\n",
      "Let's check ==> 2.0 - 8.0 = -6.0\n",
      "Let's check ==> 2.0 - 8.2 = -6.199999999999999\n",
      "Let's check ==> 2.0 - 8.3 = -6.300000000000001\n",
      "Let's check ==> 2.0 - 9.0 = -7.0\n",
      "Let's check ==> 1.9 - 1.0 = 0.8999999999999999\n",
      "Let's check ==> 1.9 - 2.0 = -0.10000000000000009\n",
      "Let's check ==> 1.9 - 2.2 = -0.30000000000000027\n",
      "Let's check ==> 1.9 - 2.4 = -0.5\n",
      "Let's check ==> 1.9 - 8.0 = -6.1\n",
      "Let's check ==> 1.9 - 8.2 = -6.299999999999999\n",
      "Let's check ==> 1.9 - 8.3 = -6.4\n",
      "Let's check ==> 1.9 - 9.0 = -7.1\n",
      "Final shifted point: 1.9\n"
     ]
    }
   ],
   "source": [
    "def shift_point(point, data, bandwidth):\n",
    "    neighbors = get_neighbors(point, data, bandwidth)\n",
    "    if not neighbors:\n",
    "        return point\n",
    "    new_point = sum(neighbors) / len(neighbors)\n",
    "    return new_point\n",
    "\n",
    "point = 2.0\n",
    "\n",
    "for i in range(100):\n",
    "    new_point = shift_point(point, data, bandwidth)\n",
    "    \n",
    "    # If the point is not moving anymore, stop early\n",
    "    if abs(new_point - point) < 1e-4:\n",
    "        break\n",
    "    \n",
    "    point = new_point  # Update the point with its new position\n",
    "\n",
    "print(\"Final shifted point:\", round(point, 3))\n"
   ]
  },
  {
   "cell_type": "code",
   "execution_count": null,
   "id": "13133eb4",
   "metadata": {},
   "outputs": [],
   "source": []
  }
 ],
 "metadata": {
  "kernelspec": {
   "display_name": "base",
   "language": "python",
   "name": "python3"
  },
  "language_info": {
   "codemirror_mode": {
    "name": "ipython",
    "version": 3
   },
   "file_extension": ".py",
   "mimetype": "text/x-python",
   "name": "python",
   "nbconvert_exporter": "python",
   "pygments_lexer": "ipython3",
   "version": "3.11.3"
  }
 },
 "nbformat": 4,
 "nbformat_minor": 5
}
